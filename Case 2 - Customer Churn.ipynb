{
 "cells": [
  {
   "cell_type": "code",
   "execution_count": 124,
   "id": "6b3b8cac",
   "metadata": {},
   "outputs": [],
   "source": [
    "import pandas as pd\n",
    "import numpy as np \n",
    "import matplotlib.pyplot as plt \n",
    "from datetime import datetime, timedelta\n",
    "\n",
    "import matplotlib.pyplot as plt\n",
    "import seaborn as sns"
   ]
  },
  {
   "cell_type": "code",
   "execution_count": 125,
   "id": "3af8e05e",
   "metadata": {},
   "outputs": [],
   "source": [
    "data = pd.read_csv(\"casestudy.csv\")"
   ]
  },
  {
   "cell_type": "code",
   "execution_count": 126,
   "id": "de05c4ad",
   "metadata": {},
   "outputs": [
    {
     "data": {
      "text/plain": [
       "Index(['Unnamed: 0', 'customer_email', 'net_revenue', 'year'], dtype='object')"
      ]
     },
     "execution_count": 126,
     "metadata": {},
     "output_type": "execute_result"
    }
   ],
   "source": [
    "data.columns"
   ]
  },
  {
   "cell_type": "code",
   "execution_count": 127,
   "id": "3e4e8093",
   "metadata": {},
   "outputs": [
    {
     "data": {
      "text/plain": [
       "Unnamed: 0          int64\n",
       "customer_email     object\n",
       "net_revenue       float64\n",
       "year                int64\n",
       "dtype: object"
      ]
     },
     "execution_count": 127,
     "metadata": {},
     "output_type": "execute_result"
    }
   ],
   "source": [
    "data.dtypes"
   ]
  },
  {
   "cell_type": "code",
   "execution_count": 128,
   "id": "00eca324",
   "metadata": {},
   "outputs": [],
   "source": [
    "#  drop index column\n",
    "data = data.drop('Unnamed: 0',1)\n",
    "\n",
    "# strip\n",
    "data['customer_email'] = data['customer_email'].str.strip()"
   ]
  },
  {
   "cell_type": "code",
   "execution_count": 129,
   "id": "47e88176",
   "metadata": {},
   "outputs": [
    {
     "data": {
      "text/plain": [
       "customer_email     object\n",
       "net_revenue       float64\n",
       "year                int64\n",
       "dtype: object"
      ]
     },
     "execution_count": 129,
     "metadata": {},
     "output_type": "execute_result"
    }
   ],
   "source": [
    "data.dtypes"
   ]
  },
  {
   "cell_type": "code",
   "execution_count": 130,
   "id": "5ce6c470",
   "metadata": {},
   "outputs": [
    {
     "data": {
      "text/html": [
       "<div>\n",
       "<style scoped>\n",
       "    .dataframe tbody tr th:only-of-type {\n",
       "        vertical-align: middle;\n",
       "    }\n",
       "\n",
       "    .dataframe tbody tr th {\n",
       "        vertical-align: top;\n",
       "    }\n",
       "\n",
       "    .dataframe thead th {\n",
       "        text-align: right;\n",
       "    }\n",
       "</style>\n",
       "<table border=\"1\" class=\"dataframe\">\n",
       "  <thead>\n",
       "    <tr style=\"text-align: right;\">\n",
       "      <th></th>\n",
       "      <th>customer_email</th>\n",
       "      <th>net_revenue</th>\n",
       "      <th>year</th>\n",
       "    </tr>\n",
       "  </thead>\n",
       "  <tbody>\n",
       "    <tr>\n",
       "      <th>0</th>\n",
       "      <td>nhknapwsbx@gmail.com</td>\n",
       "      <td>249.92</td>\n",
       "      <td>2015</td>\n",
       "    </tr>\n",
       "    <tr>\n",
       "      <th>1</th>\n",
       "      <td>joiuzbvcpn@gmail.com</td>\n",
       "      <td>87.61</td>\n",
       "      <td>2015</td>\n",
       "    </tr>\n",
       "    <tr>\n",
       "      <th>2</th>\n",
       "      <td>ukkjctepxt@gmail.com</td>\n",
       "      <td>168.38</td>\n",
       "      <td>2015</td>\n",
       "    </tr>\n",
       "    <tr>\n",
       "      <th>3</th>\n",
       "      <td>gykatilzrt@gmail.com</td>\n",
       "      <td>62.40</td>\n",
       "      <td>2015</td>\n",
       "    </tr>\n",
       "    <tr>\n",
       "      <th>4</th>\n",
       "      <td>mmsgsrtxah@gmail.com</td>\n",
       "      <td>43.08</td>\n",
       "      <td>2015</td>\n",
       "    </tr>\n",
       "  </tbody>\n",
       "</table>\n",
       "</div>"
      ],
      "text/plain": [
       "         customer_email  net_revenue  year\n",
       "0  nhknapwsbx@gmail.com       249.92  2015\n",
       "1  joiuzbvcpn@gmail.com        87.61  2015\n",
       "2  ukkjctepxt@gmail.com       168.38  2015\n",
       "3  gykatilzrt@gmail.com        62.40  2015\n",
       "4  mmsgsrtxah@gmail.com        43.08  2015"
      ]
     },
     "execution_count": 130,
     "metadata": {},
     "output_type": "execute_result"
    }
   ],
   "source": [
    "data.head(5)"
   ]
  },
  {
   "cell_type": "code",
   "execution_count": 131,
   "id": "8252de46",
   "metadata": {},
   "outputs": [
    {
     "data": {
      "text/html": [
       "<div>\n",
       "<style scoped>\n",
       "    .dataframe tbody tr th:only-of-type {\n",
       "        vertical-align: middle;\n",
       "    }\n",
       "\n",
       "    .dataframe tbody tr th {\n",
       "        vertical-align: top;\n",
       "    }\n",
       "\n",
       "    .dataframe thead th {\n",
       "        text-align: right;\n",
       "    }\n",
       "</style>\n",
       "<table border=\"1\" class=\"dataframe\">\n",
       "  <thead>\n",
       "    <tr style=\"text-align: right;\">\n",
       "      <th></th>\n",
       "      <th>net_revenue</th>\n",
       "      <th>year</th>\n",
       "    </tr>\n",
       "  </thead>\n",
       "  <tbody>\n",
       "    <tr>\n",
       "      <th>count</th>\n",
       "      <td>685927.000000</td>\n",
       "      <td>685927.000000</td>\n",
       "    </tr>\n",
       "    <tr>\n",
       "      <th>mean</th>\n",
       "      <td>125.647755</td>\n",
       "      <td>2016.027252</td>\n",
       "    </tr>\n",
       "    <tr>\n",
       "      <th>std</th>\n",
       "      <td>71.854528</td>\n",
       "      <td>0.837203</td>\n",
       "    </tr>\n",
       "    <tr>\n",
       "      <th>min</th>\n",
       "      <td>1.000000</td>\n",
       "      <td>2015.000000</td>\n",
       "    </tr>\n",
       "    <tr>\n",
       "      <th>25%</th>\n",
       "      <td>63.510000</td>\n",
       "      <td>2015.000000</td>\n",
       "    </tr>\n",
       "    <tr>\n",
       "      <th>50%</th>\n",
       "      <td>125.730000</td>\n",
       "      <td>2016.000000</td>\n",
       "    </tr>\n",
       "    <tr>\n",
       "      <th>75%</th>\n",
       "      <td>187.820000</td>\n",
       "      <td>2017.000000</td>\n",
       "    </tr>\n",
       "    <tr>\n",
       "      <th>max</th>\n",
       "      <td>250.000000</td>\n",
       "      <td>2017.000000</td>\n",
       "    </tr>\n",
       "  </tbody>\n",
       "</table>\n",
       "</div>"
      ],
      "text/plain": [
       "         net_revenue           year\n",
       "count  685927.000000  685927.000000\n",
       "mean      125.647755    2016.027252\n",
       "std        71.854528       0.837203\n",
       "min         1.000000    2015.000000\n",
       "25%        63.510000    2015.000000\n",
       "50%       125.730000    2016.000000\n",
       "75%       187.820000    2017.000000\n",
       "max       250.000000    2017.000000"
      ]
     },
     "execution_count": 131,
     "metadata": {},
     "output_type": "execute_result"
    }
   ],
   "source": [
    "data.describe()"
   ]
  },
  {
   "cell_type": "markdown",
   "id": "38d1be15",
   "metadata": {},
   "source": [
    "For each year we need the following information:\n",
    "Total revenue for the current year\n",
    "New Customer Revenue e.g., new customers not present in previous year only\n",
    "Existing Customer Growth. To calculate this, use the Revenue of existing customers for current year –(minus) Revenue of existing customers from the previous year\n",
    "Revenue lost from attrition\n",
    "Existing Customer Revenue Current Year\n",
    "Existing Customer Revenue Prior Year\n",
    "Total Customers Current Year\n",
    "Total Customers Previous Year\n",
    "New Customers\n",
    "Lost Customers"
   ]
  },
  {
   "cell_type": "code",
   "execution_count": 132,
   "id": "fa14547d",
   "metadata": {},
   "outputs": [
    {
     "data": {
      "text/plain": [
       "2017    249987\n",
       "2015    231294\n",
       "2016    204646\n",
       "Name: year, dtype: int64"
      ]
     },
     "execution_count": 132,
     "metadata": {},
     "output_type": "execute_result"
    }
   ],
   "source": [
    "data['year'].value_counts()"
   ]
  },
  {
   "cell_type": "code",
   "execution_count": 133,
   "id": "ce5b021a",
   "metadata": {},
   "outputs": [
    {
     "data": {
      "text/html": [
       "<div>\n",
       "<style scoped>\n",
       "    .dataframe tbody tr th:only-of-type {\n",
       "        vertical-align: middle;\n",
       "    }\n",
       "\n",
       "    .dataframe tbody tr th {\n",
       "        vertical-align: top;\n",
       "    }\n",
       "\n",
       "    .dataframe thead th {\n",
       "        text-align: right;\n",
       "    }\n",
       "</style>\n",
       "<table border=\"1\" class=\"dataframe\">\n",
       "  <thead>\n",
       "    <tr style=\"text-align: right;\">\n",
       "      <th></th>\n",
       "      <th>net_revenue</th>\n",
       "    </tr>\n",
       "    <tr>\n",
       "      <th>year</th>\n",
       "      <th></th>\n",
       "    </tr>\n",
       "  </thead>\n",
       "  <tbody>\n",
       "    <tr>\n",
       "      <th>2015</th>\n",
       "      <td>29036749.19</td>\n",
       "    </tr>\n",
       "    <tr>\n",
       "      <th>2016</th>\n",
       "      <td>25730943.59</td>\n",
       "    </tr>\n",
       "    <tr>\n",
       "      <th>2017</th>\n",
       "      <td>31417495.03</td>\n",
       "    </tr>\n",
       "  </tbody>\n",
       "</table>\n",
       "</div>"
      ],
      "text/plain": [
       "      net_revenue\n",
       "year             \n",
       "2015  29036749.19\n",
       "2016  25730943.59\n",
       "2017  31417495.03"
      ]
     },
     "execution_count": 133,
     "metadata": {},
     "output_type": "execute_result"
    }
   ],
   "source": [
    "# total revenue for current year and previous year \n",
    "\n",
    "rev_by_year = data.groupby('year').agg({'net_revenue': np.sum})\n",
    "rev_by_year"
   ]
  },
  {
   "cell_type": "code",
   "execution_count": 134,
   "id": "ace19b01",
   "metadata": {},
   "outputs": [
    {
     "data": {
      "text/html": [
       "<div>\n",
       "<style scoped>\n",
       "    .dataframe tbody tr th:only-of-type {\n",
       "        vertical-align: middle;\n",
       "    }\n",
       "\n",
       "    .dataframe tbody tr th {\n",
       "        vertical-align: top;\n",
       "    }\n",
       "\n",
       "    .dataframe thead th {\n",
       "        text-align: right;\n",
       "    }\n",
       "</style>\n",
       "<table border=\"1\" class=\"dataframe\">\n",
       "  <thead>\n",
       "    <tr style=\"text-align: right;\">\n",
       "      <th></th>\n",
       "      <th>customer_email</th>\n",
       "    </tr>\n",
       "    <tr>\n",
       "      <th>year</th>\n",
       "      <th></th>\n",
       "    </tr>\n",
       "  </thead>\n",
       "  <tbody>\n",
       "    <tr>\n",
       "      <th>2015</th>\n",
       "      <td>231294</td>\n",
       "    </tr>\n",
       "    <tr>\n",
       "      <th>2016</th>\n",
       "      <td>204646</td>\n",
       "    </tr>\n",
       "    <tr>\n",
       "      <th>2017</th>\n",
       "      <td>249987</td>\n",
       "    </tr>\n",
       "  </tbody>\n",
       "</table>\n",
       "</div>"
      ],
      "text/plain": [
       "      customer_email\n",
       "year                \n",
       "2015          231294\n",
       "2016          204646\n",
       "2017          249987"
      ]
     },
     "execution_count": 134,
     "metadata": {},
     "output_type": "execute_result"
    }
   ],
   "source": [
    "# total customers for current year and previous year\n",
    "# considering there might be multiple orders from the same customer, we calculate the unique values of customers \n",
    "\n",
    "customer_by_year = data.groupby('year').agg({'customer_email': lambda x: x.unique().size})\n",
    "customer_by_year"
   ]
  },
  {
   "cell_type": "code",
   "execution_count": 135,
   "id": "8fcbd667",
   "metadata": {},
   "outputs": [
    {
     "data": {
      "text/html": [
       "<div>\n",
       "<style scoped>\n",
       "    .dataframe tbody tr th:only-of-type {\n",
       "        vertical-align: middle;\n",
       "    }\n",
       "\n",
       "    .dataframe tbody tr th {\n",
       "        vertical-align: top;\n",
       "    }\n",
       "\n",
       "    .dataframe thead th {\n",
       "        text-align: right;\n",
       "    }\n",
       "</style>\n",
       "<table border=\"1\" class=\"dataframe\">\n",
       "  <thead>\n",
       "    <tr style=\"text-align: right;\">\n",
       "      <th></th>\n",
       "      <th>net_revenue</th>\n",
       "      <th>customer_email</th>\n",
       "    </tr>\n",
       "    <tr>\n",
       "      <th>year</th>\n",
       "      <th></th>\n",
       "      <th></th>\n",
       "    </tr>\n",
       "  </thead>\n",
       "  <tbody>\n",
       "    <tr>\n",
       "      <th>2015</th>\n",
       "      <td>29036749.19</td>\n",
       "      <td>231294</td>\n",
       "    </tr>\n",
       "    <tr>\n",
       "      <th>2016</th>\n",
       "      <td>25730943.59</td>\n",
       "      <td>204646</td>\n",
       "    </tr>\n",
       "    <tr>\n",
       "      <th>2017</th>\n",
       "      <td>31417495.03</td>\n",
       "      <td>249987</td>\n",
       "    </tr>\n",
       "  </tbody>\n",
       "</table>\n",
       "</div>"
      ],
      "text/plain": [
       "      net_revenue  customer_email\n",
       "year                             \n",
       "2015  29036749.19          231294\n",
       "2016  25730943.59          204646\n",
       "2017  31417495.03          249987"
      ]
     },
     "execution_count": 135,
     "metadata": {},
     "output_type": "execute_result"
    }
   ],
   "source": [
    "by_year = rev_by_year.merge(customer_by_year, on='year', how='left')\n",
    "by_year"
   ]
  },
  {
   "cell_type": "markdown",
   "id": "016bbc8d",
   "metadata": {},
   "source": [
    "Before start calculating existing customers, new customers, lost customers and the revenue related with them, I'd like to define 2015's new and existing customers as its total customers, as there is last no year to compare for 2015."
   ]
  },
  {
   "cell_type": "code",
   "execution_count": 136,
   "id": "29e3389c",
   "metadata": {},
   "outputs": [],
   "source": [
    "data_2015 = data[data['year']==2015]"
   ]
  },
  {
   "cell_type": "markdown",
   "id": "724bbddc",
   "metadata": {},
   "source": [
    "New Customer and Revenue from New Customer"
   ]
  },
  {
   "cell_type": "code",
   "execution_count": 137,
   "id": "bd467df9",
   "metadata": {},
   "outputs": [],
   "source": [
    "# new customer revenue \n",
    "# define a function identifying new customers \n",
    "\n",
    "def generate_new_customer_in_year(data, year):\n",
    "    assert year in data['year'].unique()\n",
    "    this_year_data = data[data['year'] == year]\n",
    "    last_year_data = data[data['year'] == year - 1]\n",
    "    this_year_new_data = this_year_data[~this_year_data['customer_email'].isin(last_year_data['customer_email'])]\n",
    "    return this_year_new_data"
   ]
  },
  {
   "cell_type": "code",
   "execution_count": 138,
   "id": "1acb4907",
   "metadata": {},
   "outputs": [],
   "source": [
    "# slicing new customers' orders from 2016 and 2017\n",
    "\n",
    "new_2017 = generate_new_customer_in_year(data, 2017)\n",
    "new_2016 = generate_new_customer_in_year(data, 2016)  "
   ]
  },
  {
   "cell_type": "code",
   "execution_count": 139,
   "id": "cd19ca73",
   "metadata": {},
   "outputs": [],
   "source": [
    "# new customer by year \n",
    "\n",
    "new_2017_customer = new_2017['customer_email'].unique().size\n",
    "new_2016_customer = new_2016['customer_email'].unique().size\n",
    "new_2015_customer = data_2015['customer_email'].unique().size"
   ]
  },
  {
   "cell_type": "code",
   "execution_count": 140,
   "id": "7a0e4dd7",
   "metadata": {},
   "outputs": [
    {
     "data": {
      "text/html": [
       "<div>\n",
       "<style scoped>\n",
       "    .dataframe tbody tr th:only-of-type {\n",
       "        vertical-align: middle;\n",
       "    }\n",
       "\n",
       "    .dataframe tbody tr th {\n",
       "        vertical-align: top;\n",
       "    }\n",
       "\n",
       "    .dataframe thead th {\n",
       "        text-align: right;\n",
       "    }\n",
       "</style>\n",
       "<table border=\"1\" class=\"dataframe\">\n",
       "  <thead>\n",
       "    <tr style=\"text-align: right;\">\n",
       "      <th></th>\n",
       "      <th>net_revenue</th>\n",
       "      <th>customer_email</th>\n",
       "      <th>New Customers</th>\n",
       "    </tr>\n",
       "    <tr>\n",
       "      <th>year</th>\n",
       "      <th></th>\n",
       "      <th></th>\n",
       "      <th></th>\n",
       "    </tr>\n",
       "  </thead>\n",
       "  <tbody>\n",
       "    <tr>\n",
       "      <th>2015</th>\n",
       "      <td>29036749.19</td>\n",
       "      <td>231294</td>\n",
       "      <td>231294</td>\n",
       "    </tr>\n",
       "    <tr>\n",
       "      <th>2016</th>\n",
       "      <td>25730943.59</td>\n",
       "      <td>204646</td>\n",
       "      <td>136891</td>\n",
       "    </tr>\n",
       "    <tr>\n",
       "      <th>2017</th>\n",
       "      <td>31417495.03</td>\n",
       "      <td>249987</td>\n",
       "      <td>173449</td>\n",
       "    </tr>\n",
       "  </tbody>\n",
       "</table>\n",
       "</div>"
      ],
      "text/plain": [
       "      net_revenue  customer_email  New Customers\n",
       "year                                            \n",
       "2015  29036749.19          231294         231294\n",
       "2016  25730943.59          204646         136891\n",
       "2017  31417495.03          249987         173449"
      ]
     },
     "execution_count": 140,
     "metadata": {},
     "output_type": "execute_result"
    }
   ],
   "source": [
    "new_customer = [new_2015_customer,new_2016_customer,new_2017_customer]\n",
    "by_year['New Customers'] = new_customer\n",
    "by_year"
   ]
  },
  {
   "cell_type": "code",
   "execution_count": 141,
   "id": "1f370add",
   "metadata": {},
   "outputs": [],
   "source": [
    "# new customer revenue of 2016 and 2017\n",
    "\n",
    "rev_new_2017 = new_2017['net_revenue'].agg(\"sum\")\n",
    "rev_new_2016 = new_2016['net_revenue'].agg(\"sum\")\n",
    "rev_new_2015 = data_2015['net_revenue'].agg(\"sum\")"
   ]
  },
  {
   "cell_type": "code",
   "execution_count": 143,
   "id": "275faf65",
   "metadata": {},
   "outputs": [
    {
     "data": {
      "text/html": [
       "<div>\n",
       "<style scoped>\n",
       "    .dataframe tbody tr th:only-of-type {\n",
       "        vertical-align: middle;\n",
       "    }\n",
       "\n",
       "    .dataframe tbody tr th {\n",
       "        vertical-align: top;\n",
       "    }\n",
       "\n",
       "    .dataframe thead th {\n",
       "        text-align: right;\n",
       "    }\n",
       "</style>\n",
       "<table border=\"1\" class=\"dataframe\">\n",
       "  <thead>\n",
       "    <tr style=\"text-align: right;\">\n",
       "      <th></th>\n",
       "      <th>net_revenue</th>\n",
       "      <th>customer_email</th>\n",
       "      <th>New Customers</th>\n",
       "      <th>New Customer Revenue</th>\n",
       "    </tr>\n",
       "    <tr>\n",
       "      <th>year</th>\n",
       "      <th></th>\n",
       "      <th></th>\n",
       "      <th></th>\n",
       "      <th></th>\n",
       "    </tr>\n",
       "  </thead>\n",
       "  <tbody>\n",
       "    <tr>\n",
       "      <th>2015</th>\n",
       "      <td>29036749.19</td>\n",
       "      <td>231294</td>\n",
       "      <td>231294</td>\n",
       "      <td>29036749.19</td>\n",
       "    </tr>\n",
       "    <tr>\n",
       "      <th>2016</th>\n",
       "      <td>25730943.59</td>\n",
       "      <td>204646</td>\n",
       "      <td>136891</td>\n",
       "      <td>17206366.90</td>\n",
       "    </tr>\n",
       "    <tr>\n",
       "      <th>2017</th>\n",
       "      <td>31417495.03</td>\n",
       "      <td>249987</td>\n",
       "      <td>173449</td>\n",
       "      <td>21769213.01</td>\n",
       "    </tr>\n",
       "  </tbody>\n",
       "</table>\n",
       "</div>"
      ],
      "text/plain": [
       "      net_revenue  customer_email  New Customers  New Customer Revenue\n",
       "year                                                                  \n",
       "2015  29036749.19          231294         231294           29036749.19\n",
       "2016  25730943.59          204646         136891           17206366.90\n",
       "2017  31417495.03          249987         173449           21769213.01"
      ]
     },
     "execution_count": 143,
     "metadata": {},
     "output_type": "execute_result"
    }
   ],
   "source": [
    "new_customer_revenue = [rev_new_2015,rev_new_2016,rev_new_2017]\n",
    "by_year['New Customer Revenue']=new_customer_revenue\n",
    "by_year"
   ]
  },
  {
   "cell_type": "markdown",
   "id": "9812609d",
   "metadata": {},
   "source": [
    "Existing Customer and revenue"
   ]
  },
  {
   "cell_type": "code",
   "execution_count": 144,
   "id": "be32b2bf",
   "metadata": {},
   "outputs": [],
   "source": [
    "# existing customer growth\n",
    "# define a function identifying exisiting customers \n",
    "\n",
    "def generate_exist_customer_in_year(data, year):\n",
    "    assert year in data['year'].unique()\n",
    "    this_year_data = data[data['year'] == year]\n",
    "    last_year_data = data[data['year'] == year - 1]\n",
    "    exist_data = this_year_data[this_year_data['customer_email'].isin(last_year_data['customer_email'])]\n",
    "    return exist_data"
   ]
  },
  {
   "cell_type": "code",
   "execution_count": 145,
   "id": "cc2d7077",
   "metadata": {},
   "outputs": [],
   "source": [
    "# slicing existing customers' orders from 2016 and 2017\n",
    "\n",
    "exist_2017 = generate_exist_customer_in_year(data, 2017)\n",
    "exist_2016 = generate_exist_customer_in_year(data, 2016)"
   ]
  },
  {
   "cell_type": "code",
   "execution_count": 146,
   "id": "f5683dda",
   "metadata": {},
   "outputs": [],
   "source": [
    "# existing customer by year \n",
    "\n",
    "exist_2017_customer = exist_2017['customer_email'].unique().size\n",
    "exist_2016_customer = exist_2016['customer_email'].unique().size\n",
    "exist_2015_customer = data_2015['customer_email'].unique().size"
   ]
  },
  {
   "cell_type": "code",
   "execution_count": 147,
   "id": "3e06a3d8",
   "metadata": {},
   "outputs": [
    {
     "data": {
      "text/html": [
       "<div>\n",
       "<style scoped>\n",
       "    .dataframe tbody tr th:only-of-type {\n",
       "        vertical-align: middle;\n",
       "    }\n",
       "\n",
       "    .dataframe tbody tr th {\n",
       "        vertical-align: top;\n",
       "    }\n",
       "\n",
       "    .dataframe thead th {\n",
       "        text-align: right;\n",
       "    }\n",
       "</style>\n",
       "<table border=\"1\" class=\"dataframe\">\n",
       "  <thead>\n",
       "    <tr style=\"text-align: right;\">\n",
       "      <th></th>\n",
       "      <th>net_revenue</th>\n",
       "      <th>customer_email</th>\n",
       "      <th>New Customers</th>\n",
       "      <th>New Customer Revenue</th>\n",
       "      <th>Existing Customers</th>\n",
       "    </tr>\n",
       "    <tr>\n",
       "      <th>year</th>\n",
       "      <th></th>\n",
       "      <th></th>\n",
       "      <th></th>\n",
       "      <th></th>\n",
       "      <th></th>\n",
       "    </tr>\n",
       "  </thead>\n",
       "  <tbody>\n",
       "    <tr>\n",
       "      <th>2015</th>\n",
       "      <td>29036749.19</td>\n",
       "      <td>231294</td>\n",
       "      <td>231294</td>\n",
       "      <td>29036749.19</td>\n",
       "      <td>231294</td>\n",
       "    </tr>\n",
       "    <tr>\n",
       "      <th>2016</th>\n",
       "      <td>25730943.59</td>\n",
       "      <td>204646</td>\n",
       "      <td>136891</td>\n",
       "      <td>17206366.90</td>\n",
       "      <td>67755</td>\n",
       "    </tr>\n",
       "    <tr>\n",
       "      <th>2017</th>\n",
       "      <td>31417495.03</td>\n",
       "      <td>249987</td>\n",
       "      <td>173449</td>\n",
       "      <td>21769213.01</td>\n",
       "      <td>76538</td>\n",
       "    </tr>\n",
       "  </tbody>\n",
       "</table>\n",
       "</div>"
      ],
      "text/plain": [
       "      net_revenue  customer_email  New Customers  New Customer Revenue  \\\n",
       "year                                                                     \n",
       "2015  29036749.19          231294         231294           29036749.19   \n",
       "2016  25730943.59          204646         136891           17206366.90   \n",
       "2017  31417495.03          249987         173449           21769213.01   \n",
       "\n",
       "      Existing Customers  \n",
       "year                      \n",
       "2015              231294  \n",
       "2016               67755  \n",
       "2017               76538  "
      ]
     },
     "execution_count": 147,
     "metadata": {},
     "output_type": "execute_result"
    }
   ],
   "source": [
    "exist_customer = [exist_2015_customer,exist_2016_customer,exist_2017_customer]\n",
    "by_year['Existing Customers'] = exist_customer\n",
    "by_year"
   ]
  },
  {
   "cell_type": "code",
   "execution_count": 148,
   "id": "b5c7bd2a",
   "metadata": {},
   "outputs": [],
   "source": [
    "# existing customer revenue of 2017, 2016 and 2015\n",
    "\n",
    "rev_exist_2017 = exist_2017['net_revenue'].agg(\"sum\")\n",
    "rev_exist_2016 = exist_2016['net_revenue'].agg(\"sum\")\n",
    "rev_exist_2015 = data_2015['net_revenue'].agg(\"sum\")"
   ]
  },
  {
   "cell_type": "code",
   "execution_count": 149,
   "id": "f241b9c5",
   "metadata": {},
   "outputs": [
    {
     "data": {
      "text/html": [
       "<div>\n",
       "<style scoped>\n",
       "    .dataframe tbody tr th:only-of-type {\n",
       "        vertical-align: middle;\n",
       "    }\n",
       "\n",
       "    .dataframe tbody tr th {\n",
       "        vertical-align: top;\n",
       "    }\n",
       "\n",
       "    .dataframe thead th {\n",
       "        text-align: right;\n",
       "    }\n",
       "</style>\n",
       "<table border=\"1\" class=\"dataframe\">\n",
       "  <thead>\n",
       "    <tr style=\"text-align: right;\">\n",
       "      <th></th>\n",
       "      <th>net_revenue</th>\n",
       "      <th>customer_email</th>\n",
       "      <th>New Customers</th>\n",
       "      <th>New Customer Revenue</th>\n",
       "      <th>Existing Customers</th>\n",
       "      <th>Existing Customer Revenue</th>\n",
       "    </tr>\n",
       "    <tr>\n",
       "      <th>year</th>\n",
       "      <th></th>\n",
       "      <th></th>\n",
       "      <th></th>\n",
       "      <th></th>\n",
       "      <th></th>\n",
       "      <th></th>\n",
       "    </tr>\n",
       "  </thead>\n",
       "  <tbody>\n",
       "    <tr>\n",
       "      <th>2015</th>\n",
       "      <td>29036749.19</td>\n",
       "      <td>231294</td>\n",
       "      <td>231294</td>\n",
       "      <td>29036749.19</td>\n",
       "      <td>231294</td>\n",
       "      <td>29036749.19</td>\n",
       "    </tr>\n",
       "    <tr>\n",
       "      <th>2016</th>\n",
       "      <td>25730943.59</td>\n",
       "      <td>204646</td>\n",
       "      <td>136891</td>\n",
       "      <td>17206366.90</td>\n",
       "      <td>67755</td>\n",
       "      <td>8524576.69</td>\n",
       "    </tr>\n",
       "    <tr>\n",
       "      <th>2017</th>\n",
       "      <td>31417495.03</td>\n",
       "      <td>249987</td>\n",
       "      <td>173449</td>\n",
       "      <td>21769213.01</td>\n",
       "      <td>76538</td>\n",
       "      <td>9648282.02</td>\n",
       "    </tr>\n",
       "  </tbody>\n",
       "</table>\n",
       "</div>"
      ],
      "text/plain": [
       "      net_revenue  customer_email  New Customers  New Customer Revenue  \\\n",
       "year                                                                     \n",
       "2015  29036749.19          231294         231294           29036749.19   \n",
       "2016  25730943.59          204646         136891           17206366.90   \n",
       "2017  31417495.03          249987         173449           21769213.01   \n",
       "\n",
       "      Existing Customers  Existing Customer Revenue  \n",
       "year                                                 \n",
       "2015              231294                29036749.19  \n",
       "2016               67755                 8524576.69  \n",
       "2017               76538                 9648282.02  "
      ]
     },
     "execution_count": 149,
     "metadata": {},
     "output_type": "execute_result"
    }
   ],
   "source": [
    "rev_exist_customer = [rev_exist_2015,rev_exist_2016,rev_exist_2017]\n",
    "by_year['Existing Customer Revenue'] = rev_exist_customer\n",
    "by_year"
   ]
  },
  {
   "cell_type": "code",
   "execution_count": 150,
   "id": "7a82ea31",
   "metadata": {},
   "outputs": [],
   "source": [
    "# existing customer revenue growth\n",
    "\n",
    "rev_exist_growth_2017 = rev_exist_2017 - rev_exist_2016\n",
    "rev_exist_growth_2016 = rev_exist_2017 - rev_exist_2015\n",
    "rev_exist_growth_2015 = 0"
   ]
  },
  {
   "cell_type": "code",
   "execution_count": 151,
   "id": "bb1e332d",
   "metadata": {},
   "outputs": [
    {
     "data": {
      "text/html": [
       "<div>\n",
       "<style scoped>\n",
       "    .dataframe tbody tr th:only-of-type {\n",
       "        vertical-align: middle;\n",
       "    }\n",
       "\n",
       "    .dataframe tbody tr th {\n",
       "        vertical-align: top;\n",
       "    }\n",
       "\n",
       "    .dataframe thead th {\n",
       "        text-align: right;\n",
       "    }\n",
       "</style>\n",
       "<table border=\"1\" class=\"dataframe\">\n",
       "  <thead>\n",
       "    <tr style=\"text-align: right;\">\n",
       "      <th></th>\n",
       "      <th>net_revenue</th>\n",
       "      <th>customer_email</th>\n",
       "      <th>New Customers</th>\n",
       "      <th>New Customer Revenue</th>\n",
       "      <th>Existing Customers</th>\n",
       "      <th>Existing Customer Revenue</th>\n",
       "      <th>Existing Customer Growth</th>\n",
       "    </tr>\n",
       "    <tr>\n",
       "      <th>year</th>\n",
       "      <th></th>\n",
       "      <th></th>\n",
       "      <th></th>\n",
       "      <th></th>\n",
       "      <th></th>\n",
       "      <th></th>\n",
       "      <th></th>\n",
       "    </tr>\n",
       "  </thead>\n",
       "  <tbody>\n",
       "    <tr>\n",
       "      <th>2015</th>\n",
       "      <td>29036749.19</td>\n",
       "      <td>231294</td>\n",
       "      <td>231294</td>\n",
       "      <td>29036749.19</td>\n",
       "      <td>231294</td>\n",
       "      <td>29036749.19</td>\n",
       "      <td>0.00</td>\n",
       "    </tr>\n",
       "    <tr>\n",
       "      <th>2016</th>\n",
       "      <td>25730943.59</td>\n",
       "      <td>204646</td>\n",
       "      <td>136891</td>\n",
       "      <td>17206366.90</td>\n",
       "      <td>67755</td>\n",
       "      <td>8524576.69</td>\n",
       "      <td>-19388467.17</td>\n",
       "    </tr>\n",
       "    <tr>\n",
       "      <th>2017</th>\n",
       "      <td>31417495.03</td>\n",
       "      <td>249987</td>\n",
       "      <td>173449</td>\n",
       "      <td>21769213.01</td>\n",
       "      <td>76538</td>\n",
       "      <td>9648282.02</td>\n",
       "      <td>1123705.33</td>\n",
       "    </tr>\n",
       "  </tbody>\n",
       "</table>\n",
       "</div>"
      ],
      "text/plain": [
       "      net_revenue  customer_email  New Customers  New Customer Revenue  \\\n",
       "year                                                                     \n",
       "2015  29036749.19          231294         231294           29036749.19   \n",
       "2016  25730943.59          204646         136891           17206366.90   \n",
       "2017  31417495.03          249987         173449           21769213.01   \n",
       "\n",
       "      Existing Customers  Existing Customer Revenue  Existing Customer Growth  \n",
       "year                                                                           \n",
       "2015              231294                29036749.19                      0.00  \n",
       "2016               67755                 8524576.69              -19388467.17  \n",
       "2017               76538                 9648282.02                1123705.33  "
      ]
     },
     "execution_count": 151,
     "metadata": {},
     "output_type": "execute_result"
    }
   ],
   "source": [
    "rev_exist_growth = [rev_exist_growth_2015,rev_exist_growth_2016,rev_exist_growth_2017]\n",
    "by_year['Existing Customer Growth'] = rev_exist_growth\n",
    "by_year"
   ]
  },
  {
   "cell_type": "markdown",
   "id": "74227aad",
   "metadata": {},
   "source": [
    "Lost Customer and Revenue loss from churned customers "
   ]
  },
  {
   "cell_type": "code",
   "execution_count": 152,
   "id": "f2fcb349",
   "metadata": {},
   "outputs": [],
   "source": [
    "# lost customer and revenue lost from attrition\n",
    "# define a function identifying lost customers \n",
    "\n",
    "def generate_lost_customer_in_year(data, year):\n",
    "    assert year in data['year'].unique()\n",
    "    this_year_data = data[data['year'] == year]\n",
    "    last_year_data = data[data['year'] == year - 1]\n",
    "    lost_data = last_year_data[~last_year_data['customer_email'].isin(this_year_data['customer_email'])]\n",
    "    return lost_data"
   ]
  },
  {
   "cell_type": "code",
   "execution_count": 153,
   "id": "f26a0bb1",
   "metadata": {},
   "outputs": [],
   "source": [
    "# slicing existing customers' orders from 2016 and 2017\n",
    "\n",
    "lost_2017 = generate_lost_customer_in_year(data, 2017)\n",
    "lost_2016 = generate_lost_customer_in_year(data, 2016)\n"
   ]
  },
  {
   "cell_type": "code",
   "execution_count": 154,
   "id": "63dc2f57",
   "metadata": {},
   "outputs": [],
   "source": [
    "# lost customer by year \n",
    "\n",
    "lost_2017_customer = lost_2017['customer_email'].unique().size\n",
    "lost_2016_customer = lost_2016['customer_email'].unique().size\n",
    "lost_2015_customer = 0"
   ]
  },
  {
   "cell_type": "code",
   "execution_count": 155,
   "id": "8a7b44a8",
   "metadata": {},
   "outputs": [
    {
     "data": {
      "text/html": [
       "<div>\n",
       "<style scoped>\n",
       "    .dataframe tbody tr th:only-of-type {\n",
       "        vertical-align: middle;\n",
       "    }\n",
       "\n",
       "    .dataframe tbody tr th {\n",
       "        vertical-align: top;\n",
       "    }\n",
       "\n",
       "    .dataframe thead th {\n",
       "        text-align: right;\n",
       "    }\n",
       "</style>\n",
       "<table border=\"1\" class=\"dataframe\">\n",
       "  <thead>\n",
       "    <tr style=\"text-align: right;\">\n",
       "      <th></th>\n",
       "      <th>net_revenue</th>\n",
       "      <th>customer_email</th>\n",
       "      <th>New Customers</th>\n",
       "      <th>New Customer Revenue</th>\n",
       "      <th>Existing Customers</th>\n",
       "      <th>Existing Customer Revenue</th>\n",
       "      <th>Existing Customer Growth</th>\n",
       "      <th>Lost Customers</th>\n",
       "    </tr>\n",
       "    <tr>\n",
       "      <th>year</th>\n",
       "      <th></th>\n",
       "      <th></th>\n",
       "      <th></th>\n",
       "      <th></th>\n",
       "      <th></th>\n",
       "      <th></th>\n",
       "      <th></th>\n",
       "      <th></th>\n",
       "    </tr>\n",
       "  </thead>\n",
       "  <tbody>\n",
       "    <tr>\n",
       "      <th>2015</th>\n",
       "      <td>29036749.19</td>\n",
       "      <td>231294</td>\n",
       "      <td>231294</td>\n",
       "      <td>29036749.19</td>\n",
       "      <td>231294</td>\n",
       "      <td>29036749.19</td>\n",
       "      <td>0.00</td>\n",
       "      <td>0</td>\n",
       "    </tr>\n",
       "    <tr>\n",
       "      <th>2016</th>\n",
       "      <td>25730943.59</td>\n",
       "      <td>204646</td>\n",
       "      <td>136891</td>\n",
       "      <td>17206366.90</td>\n",
       "      <td>67755</td>\n",
       "      <td>8524576.69</td>\n",
       "      <td>-19388467.17</td>\n",
       "      <td>163539</td>\n",
       "    </tr>\n",
       "    <tr>\n",
       "      <th>2017</th>\n",
       "      <td>31417495.03</td>\n",
       "      <td>249987</td>\n",
       "      <td>173449</td>\n",
       "      <td>21769213.01</td>\n",
       "      <td>76538</td>\n",
       "      <td>9648282.02</td>\n",
       "      <td>1123705.33</td>\n",
       "      <td>128108</td>\n",
       "    </tr>\n",
       "  </tbody>\n",
       "</table>\n",
       "</div>"
      ],
      "text/plain": [
       "      net_revenue  customer_email  New Customers  New Customer Revenue  \\\n",
       "year                                                                     \n",
       "2015  29036749.19          231294         231294           29036749.19   \n",
       "2016  25730943.59          204646         136891           17206366.90   \n",
       "2017  31417495.03          249987         173449           21769213.01   \n",
       "\n",
       "      Existing Customers  Existing Customer Revenue  Existing Customer Growth  \\\n",
       "year                                                                            \n",
       "2015              231294                29036749.19                      0.00   \n",
       "2016               67755                 8524576.69              -19388467.17   \n",
       "2017               76538                 9648282.02                1123705.33   \n",
       "\n",
       "      Lost Customers  \n",
       "year                  \n",
       "2015               0  \n",
       "2016          163539  \n",
       "2017          128108  "
      ]
     },
     "execution_count": 155,
     "metadata": {},
     "output_type": "execute_result"
    }
   ],
   "source": [
    "lost_customers= [lost_2015_customer,lost_2016_customer,lost_2017_customer]\n",
    "by_year['Lost Customers'] = lost_customers\n",
    "by_year"
   ]
  },
  {
   "cell_type": "code",
   "execution_count": 156,
   "id": "d40a7e7f",
   "metadata": {},
   "outputs": [],
   "source": [
    "# lost customer revenue of 2016 and 2017\n",
    "\n",
    "rev_lost_2017 = lost_2017['net_revenue'].agg(\"sum\")\n",
    "rev_lost_2016 = lost_2016['net_revenue'].agg(\"sum\")\n",
    "rev_lost_2015 = 0"
   ]
  },
  {
   "cell_type": "code",
   "execution_count": 157,
   "id": "e03fb390",
   "metadata": {},
   "outputs": [
    {
     "data": {
      "text/html": [
       "<div>\n",
       "<style scoped>\n",
       "    .dataframe tbody tr th:only-of-type {\n",
       "        vertical-align: middle;\n",
       "    }\n",
       "\n",
       "    .dataframe tbody tr th {\n",
       "        vertical-align: top;\n",
       "    }\n",
       "\n",
       "    .dataframe thead th {\n",
       "        text-align: right;\n",
       "    }\n",
       "</style>\n",
       "<table border=\"1\" class=\"dataframe\">\n",
       "  <thead>\n",
       "    <tr style=\"text-align: right;\">\n",
       "      <th></th>\n",
       "      <th>net_revenue</th>\n",
       "      <th>customer_email</th>\n",
       "      <th>New Customers</th>\n",
       "      <th>New Customer Revenue</th>\n",
       "      <th>Existing Customers</th>\n",
       "      <th>Existing Customer Revenue</th>\n",
       "      <th>Existing Customer Growth</th>\n",
       "      <th>Lost Customers</th>\n",
       "      <th>Revenue lost from attrition</th>\n",
       "    </tr>\n",
       "    <tr>\n",
       "      <th>year</th>\n",
       "      <th></th>\n",
       "      <th></th>\n",
       "      <th></th>\n",
       "      <th></th>\n",
       "      <th></th>\n",
       "      <th></th>\n",
       "      <th></th>\n",
       "      <th></th>\n",
       "      <th></th>\n",
       "    </tr>\n",
       "  </thead>\n",
       "  <tbody>\n",
       "    <tr>\n",
       "      <th>2015</th>\n",
       "      <td>29036749.19</td>\n",
       "      <td>231294</td>\n",
       "      <td>231294</td>\n",
       "      <td>29036749.19</td>\n",
       "      <td>231294</td>\n",
       "      <td>29036749.19</td>\n",
       "      <td>0.00</td>\n",
       "      <td>0</td>\n",
       "      <td>0.00</td>\n",
       "    </tr>\n",
       "    <tr>\n",
       "      <th>2016</th>\n",
       "      <td>25730943.59</td>\n",
       "      <td>204646</td>\n",
       "      <td>136891</td>\n",
       "      <td>17206366.90</td>\n",
       "      <td>67755</td>\n",
       "      <td>8524576.69</td>\n",
       "      <td>-19388467.17</td>\n",
       "      <td>163539</td>\n",
       "      <td>20551216.15</td>\n",
       "    </tr>\n",
       "    <tr>\n",
       "      <th>2017</th>\n",
       "      <td>31417495.03</td>\n",
       "      <td>249987</td>\n",
       "      <td>173449</td>\n",
       "      <td>21769213.01</td>\n",
       "      <td>76538</td>\n",
       "      <td>9648282.02</td>\n",
       "      <td>1123705.33</td>\n",
       "      <td>128108</td>\n",
       "      <td>16146518.63</td>\n",
       "    </tr>\n",
       "  </tbody>\n",
       "</table>\n",
       "</div>"
      ],
      "text/plain": [
       "      net_revenue  customer_email  New Customers  New Customer Revenue  \\\n",
       "year                                                                     \n",
       "2015  29036749.19          231294         231294           29036749.19   \n",
       "2016  25730943.59          204646         136891           17206366.90   \n",
       "2017  31417495.03          249987         173449           21769213.01   \n",
       "\n",
       "      Existing Customers  Existing Customer Revenue  Existing Customer Growth  \\\n",
       "year                                                                            \n",
       "2015              231294                29036749.19                      0.00   \n",
       "2016               67755                 8524576.69              -19388467.17   \n",
       "2017               76538                 9648282.02                1123705.33   \n",
       "\n",
       "      Lost Customers  Revenue lost from attrition  \n",
       "year                                               \n",
       "2015               0                         0.00  \n",
       "2016          163539                  20551216.15  \n",
       "2017          128108                  16146518.63  "
      ]
     },
     "execution_count": 157,
     "metadata": {},
     "output_type": "execute_result"
    }
   ],
   "source": [
    "revenue_lost = [rev_lost_2015,rev_lost_2016,rev_lost_2017]\n",
    "by_year['Revenue lost from attrition']=revenue_lost\n",
    "by_year"
   ]
  },
  {
   "cell_type": "code",
   "execution_count": 158,
   "id": "84c1b3c9",
   "metadata": {},
   "outputs": [
    {
     "data": {
      "text/html": [
       "<div>\n",
       "<style scoped>\n",
       "    .dataframe tbody tr th:only-of-type {\n",
       "        vertical-align: middle;\n",
       "    }\n",
       "\n",
       "    .dataframe tbody tr th {\n",
       "        vertical-align: top;\n",
       "    }\n",
       "\n",
       "    .dataframe thead th {\n",
       "        text-align: right;\n",
       "    }\n",
       "</style>\n",
       "<table border=\"1\" class=\"dataframe\">\n",
       "  <thead>\n",
       "    <tr style=\"text-align: right;\">\n",
       "      <th></th>\n",
       "      <th>Net Revenue</th>\n",
       "      <th>Customers</th>\n",
       "      <th>New Customers</th>\n",
       "      <th>New Customer Revenue</th>\n",
       "      <th>Existing Customers</th>\n",
       "      <th>Existing Customer Revenue</th>\n",
       "      <th>Existing Customer Growth</th>\n",
       "      <th>Lost Customers</th>\n",
       "      <th>Revenue lost from attrition</th>\n",
       "    </tr>\n",
       "    <tr>\n",
       "      <th>year</th>\n",
       "      <th></th>\n",
       "      <th></th>\n",
       "      <th></th>\n",
       "      <th></th>\n",
       "      <th></th>\n",
       "      <th></th>\n",
       "      <th></th>\n",
       "      <th></th>\n",
       "      <th></th>\n",
       "    </tr>\n",
       "  </thead>\n",
       "  <tbody>\n",
       "    <tr>\n",
       "      <th>2015</th>\n",
       "      <td>29036749.19</td>\n",
       "      <td>231294</td>\n",
       "      <td>231294</td>\n",
       "      <td>29036749.19</td>\n",
       "      <td>231294</td>\n",
       "      <td>29036749.19</td>\n",
       "      <td>0.00</td>\n",
       "      <td>0</td>\n",
       "      <td>0.00</td>\n",
       "    </tr>\n",
       "    <tr>\n",
       "      <th>2016</th>\n",
       "      <td>25730943.59</td>\n",
       "      <td>204646</td>\n",
       "      <td>136891</td>\n",
       "      <td>17206366.90</td>\n",
       "      <td>67755</td>\n",
       "      <td>8524576.69</td>\n",
       "      <td>-19388467.17</td>\n",
       "      <td>163539</td>\n",
       "      <td>20551216.15</td>\n",
       "    </tr>\n",
       "    <tr>\n",
       "      <th>2017</th>\n",
       "      <td>31417495.03</td>\n",
       "      <td>249987</td>\n",
       "      <td>173449</td>\n",
       "      <td>21769213.01</td>\n",
       "      <td>76538</td>\n",
       "      <td>9648282.02</td>\n",
       "      <td>1123705.33</td>\n",
       "      <td>128108</td>\n",
       "      <td>16146518.63</td>\n",
       "    </tr>\n",
       "  </tbody>\n",
       "</table>\n",
       "</div>"
      ],
      "text/plain": [
       "      Net Revenue  Customers  New Customers  New Customer Revenue  \\\n",
       "year                                                                \n",
       "2015  29036749.19     231294         231294           29036749.19   \n",
       "2016  25730943.59     204646         136891           17206366.90   \n",
       "2017  31417495.03     249987         173449           21769213.01   \n",
       "\n",
       "      Existing Customers  Existing Customer Revenue  Existing Customer Growth  \\\n",
       "year                                                                            \n",
       "2015              231294                29036749.19                      0.00   \n",
       "2016               67755                 8524576.69              -19388467.17   \n",
       "2017               76538                 9648282.02                1123705.33   \n",
       "\n",
       "      Lost Customers  Revenue lost from attrition  \n",
       "year                                               \n",
       "2015               0                         0.00  \n",
       "2016          163539                  20551216.15  \n",
       "2017          128108                  16146518.63  "
      ]
     },
     "execution_count": 158,
     "metadata": {},
     "output_type": "execute_result"
    }
   ],
   "source": [
    "by_year = pd.DataFrame(by_year)\n",
    "by_year = by_year.rename({'net_revenue': 'Net Revenue', 'customer_email': 'Customers'},axis='columns')\n",
    "by_year"
   ]
  },
  {
   "cell_type": "code",
   "execution_count": 159,
   "id": "c8c4cdb1",
   "metadata": {},
   "outputs": [
    {
     "data": {
      "text/plain": [
       "<AxesSubplot:title={'center':'Orders by Year'}, ylabel='customer_email'>"
      ]
     },
     "execution_count": 159,
     "metadata": {},
     "output_type": "execute_result"
    },
    {
     "data": {
      "image/png": "[encoded data removed]",
      "text/plain": [
       "<Figure size 1152x648 with 1 Axes>"
      ]
     },
     "metadata": {},
     "output_type": "display_data"
    }
   ],
   "source": [
    "# visualisation and observation \n",
    "\n",
    "# orders by year \n",
    "data.groupby('year')['customer_email'].count().plot(title='Orders by Year',kind='pie',figsize=[16,9],autopct='%.0f%%')"
   ]
  },
  {
   "cell_type": "markdown",
   "id": "2df27f2b",
   "metadata": {},
   "source": [
    "As we can see from the pie chart and below bar chart - net revenue for each year, although orders/revenues are relatively evenly distributed by 1/3 per year, those from 2015 and 2017 have a larger percent. 2016 has the least amount of orders/revenue, while 2017 has the largest percentage(36%) orders, with the highest revenue 31,417,495."
   ]
  },
  {
   "cell_type": "code",
   "execution_count": 160,
   "id": "44fa615f",
   "metadata": {},
   "outputs": [
    {
     "data": {
      "image/png": "[encoded data removed]",
      "text/plain": [
       "<Figure size 1152x648 with 1 Axes>"
      ]
     },
     "metadata": {
      "needs_background": "light"
     },
     "output_type": "display_data"
    }
   ],
   "source": [
    "# revenue, new customer revenue, existing customer revenue by year\n",
    "\n",
    "N = 3\n",
    "ind = np.arange(3)  \n",
    "width = 0.15     \n",
    "\n",
    "plt.rcParams[\"figure.figsize\"] = [16,9]\n",
    "fig = plt.figure()\n",
    "ax = fig.add_subplot(111)\n",
    "\n",
    "yvals = by_year['Net Revenue']\n",
    "rects1 = ax.bar(ind, yvals, width, color=sns.color_palette('pastel')[5])\n",
    "zvals = by_year['New Customer Revenue']\n",
    "rects2 = ax.bar(ind+width, zvals, width, color=sns.color_palette('pastel')[8])\n",
    "kvals = by_year['Existing Customer Revenue']\n",
    "rects3 = ax.bar(ind+width*2, kvals, width, color=sns.color_palette('pastel')[7])\n",
    "svals = by_year['Existing Customer Growth']\n",
    "rects4 = ax.bar(ind+width*3, svals, width, color=sns.color_palette('pastel')[1])\n",
    "hvals = by_year['Revenue lost from attrition']\n",
    "rects5 = ax.bar(ind+width*4, hvals, width, color=sns.color_palette('pastel')[3])\n",
    "\n",
    "ax.set_ylabel('Revenue')\n",
    "ax.set_xlabel('Year')\n",
    "ax.set_xticks(ind+width)\n",
    "ax.set_xticklabels(('2015','2016','2017'))\n",
    "ax.legend((rects1[0], rects2[0], rects3[0], rects4[0],rects5[0]), ('Net Revenue', 'New Customer Revenue', 'Existing Customer Revenue','Existing Customer Growth','Revenue lost from attrition'))\n",
    "\n",
    "def autolabel(rects):\n",
    "    for rect in rects:\n",
    "        h = rect.get_height()\n",
    "        ax.text(rect.get_x()+rect.get_width()/2., 1.05*h, '%d'%int(h),rotation=60,\n",
    "                ha='center', va='bottom')\n",
    "        \n",
    "autolabel(rects1)\n",
    "autolabel(rects2)\n",
    "autolabel(rects3)\n",
    "autolabel(rects4)\n",
    "autolabel(rects5) \n",
    "\n",
    "plt.show()"
   ]
  },
  {
   "cell_type": "markdown",
   "id": "c3133e75",
   "metadata": {},
   "source": [
    "From above chart, we can tell that for 2016 and 2017, main revenue comes from new customer, revenue from new customers is significantly higher than existing customer. We shall compared this observation with the amount of new and existing customers in below chart, so we can find out if the lower existing customer value comes from lower revenue per customer or fewer existing customers. \n",
    "Another point we shall emphasize is - the existing customer growth is very low, which means the company shall pay attention on not only customer retention but also how to increase the transaction value/revenue per customer. Especially for 2016, the existing customer growth is almost -20 million, with revenue lost from attrition exceeding 20 million as well.This finding indicates that large amount of customers left, and the remaining customers' purchasing power or willingness also declined a lot. These 2 factors explained and significantly reflected the fact that, 2016 has the least order/revenue among all the years. The company needs to figure out if anything special happened in 2016, e.g. change in pricing or product, strong new competitors, and weaker customer relationship.    "
   ]
  },
  {
   "cell_type": "code",
   "execution_count": 161,
   "id": "2060539a",
   "metadata": {},
   "outputs": [
    {
     "data": {
      "image/png": "[encoded data removed]",
      "text/plain": [
       "<Figure size 1152x648 with 1 Axes>"
      ]
     },
     "metadata": {
      "needs_background": "light"
     },
     "output_type": "display_data"
    }
   ],
   "source": [
    "# customers, new customer, existing customer revenue, lost customer by year\n",
    "\n",
    "\n",
    "N = 3\n",
    "ind = np.arange(N)  \n",
    "width = 0.2    \n",
    "\n",
    "plt.rcParams[\"figure.figsize\"] = [16,9]\n",
    "fig = plt.figure()\n",
    "ax = fig.add_subplot(111)\n",
    "\n",
    "hvals = by_year['Customers']\n",
    "rects1 = ax.bar(ind, hvals, width, color=sns.color_palette('pastel')[1])\n",
    "yvals = by_year['New Customers']\n",
    "rects2 = ax.bar(ind+width, yvals, width, color=sns.color_palette('pastel')[8])\n",
    "zvals = by_year['Existing Customers']\n",
    "rects3 = ax.bar(ind+width*2, zvals, width, color=sns.color_palette('pastel')[5])\n",
    "kvals = by_year['Lost Customers']\n",
    "rects4 = ax.bar(ind+width*3, kvals, width, color=sns.color_palette('pastel')[7])\n",
    "\n",
    "\n",
    "ax.set_ylabel('Customers')\n",
    "ax.set_xlabel('Year')\n",
    "ax.set_xticks(ind+width)\n",
    "ax.set_xticklabels(('2015','2016','2017'))\n",
    "ax.legend((rects1[0], rects2[0], rects3[0],rects4[0]), ('Customers','New Customers', 'Existing Customers', 'Lost Customers'))\n",
    "\n",
    "def autolabel(rects):\n",
    "    for rect in rects:\n",
    "        h = rect.get_height()\n",
    "        ax.text(rect.get_x()+rect.get_width()/2., 1.05*h, '%d'%int(h),rotation=60,\n",
    "                ha='center', va='bottom')\n",
    "        \n",
    "autolabel(rects1)\n",
    "autolabel(rects2)\n",
    "autolabel(rects3)\n",
    "autolabel(rects4)\n",
    "\n",
    "plt.show()"
   ]
  },
  {
   "cell_type": "markdown",
   "id": "fddcdb0d",
   "metadata": {},
   "source": [
    "From above charts, we can tell that the trends of customer engagement, customer retention, and customer attrition overlap with those of revenue. New customers of 2016 and 2017 almost double existing customers. This explains why the revenue from new customers is also significantly higher than existing customers. Meanwhile, 2016's lost customers also doubled the remaining customers, which explains the sharp revenue loss from attrition. Therefore we can conclude that compared with increasing revenue per customer/transaction value, it's more important to maintain existing customers.Customer retention shall have the highest priority in our business."
   ]
  },
  {
   "cell_type": "code",
   "execution_count": 162,
   "id": "2087ad61",
   "metadata": {},
   "outputs": [
    {
     "data": {
      "text/plain": [
       "<AxesSubplot:title={'center':'Revenue by Customer'}, xlabel='customer_email'>"
      ]
     },
     "execution_count": 162,
     "metadata": {},
     "output_type": "execute_result"
    },
    {
     "data": {
      "image/png": "[encoded data removed]",
      "text/plain": [
       "<Figure size 1152x648 with 1 Axes>"
      ]
     },
     "metadata": {
      "needs_background": "light"
     },
     "output_type": "display_data"
    }
   ],
   "source": [
    "# see if there are key customers contributing to most orders and revenue \n",
    "\n",
    "data.groupby('customer_email')['net_revenue'].sum().head(15).plot(title='Revenue by Customer',kind='bar',figsize=[16,9])"
   ]
  },
  {
   "cell_type": "code",
   "execution_count": 163,
   "id": "8db3b62a",
   "metadata": {},
   "outputs": [
    {
     "data": {
      "text/plain": [
       "<AxesSubplot:title={'center':'Revenue Per Customer Distribution'}, ylabel='Frequency'>"
      ]
     },
     "execution_count": 163,
     "metadata": {},
     "output_type": "execute_result"
    },
    {
     "data": {
      "image/png": "[encoded data removed]",
      "text/plain": [
       "<Figure size 1152x648 with 1 Axes>"
      ]
     },
     "metadata": {
      "needs_background": "light"
     },
     "output_type": "display_data"
    }
   ],
   "source": [
    "# see frequent revenue per customer \n",
    "\n",
    "data.groupby('customer_email')['net_revenue'].sum().head(15).plot(title='Revenue Per Customer Distribution',kind='hist',figsize=[16,9])"
   ]
  },
  {
   "cell_type": "markdown",
   "id": "1c306be7",
   "metadata": {},
   "source": [
    "From the distribution chart we can tell some key customers have contributed more to our revenue, and the top revenues they contribute is at roughly 350 and then 250. Among all the revenue amount contributed by individual customers, 50 and 250 are more commonly seen. "
   ]
  },
  {
   "cell_type": "code",
   "execution_count": 166,
   "id": "4e587336",
   "metadata": {},
   "outputs": [
    {
     "data": {
      "text/html": [
       "<div>\n",
       "<style scoped>\n",
       "    .dataframe tbody tr th:only-of-type {\n",
       "        vertical-align: middle;\n",
       "    }\n",
       "\n",
       "    .dataframe tbody tr th {\n",
       "        vertical-align: top;\n",
       "    }\n",
       "\n",
       "    .dataframe thead th {\n",
       "        text-align: right;\n",
       "    }\n",
       "</style>\n",
       "<table border=\"1\" class=\"dataframe\">\n",
       "  <thead>\n",
       "    <tr style=\"text-align: right;\">\n",
       "      <th></th>\n",
       "      <th>Net Revenue</th>\n",
       "      <th>Customers</th>\n",
       "      <th>New Customers</th>\n",
       "      <th>New Customer Revenue</th>\n",
       "      <th>Existing Customers</th>\n",
       "      <th>Existing Customer Revenue</th>\n",
       "      <th>Existing Customer Growth</th>\n",
       "      <th>Lost Customers</th>\n",
       "      <th>Revenue lost from attrition</th>\n",
       "    </tr>\n",
       "    <tr>\n",
       "      <th>year</th>\n",
       "      <th></th>\n",
       "      <th></th>\n",
       "      <th></th>\n",
       "      <th></th>\n",
       "      <th></th>\n",
       "      <th></th>\n",
       "      <th></th>\n",
       "      <th></th>\n",
       "      <th></th>\n",
       "    </tr>\n",
       "  </thead>\n",
       "  <tbody>\n",
       "    <tr>\n",
       "      <th>2015</th>\n",
       "      <td>29036749.19</td>\n",
       "      <td>231294</td>\n",
       "      <td>231294</td>\n",
       "      <td>29036749.19</td>\n",
       "      <td>231294</td>\n",
       "      <td>29036749.19</td>\n",
       "      <td>NaN</td>\n",
       "      <td>NaN</td>\n",
       "      <td>NaN</td>\n",
       "    </tr>\n",
       "    <tr>\n",
       "      <th>2016</th>\n",
       "      <td>25730943.59</td>\n",
       "      <td>204646</td>\n",
       "      <td>136891</td>\n",
       "      <td>17206366.90</td>\n",
       "      <td>67755</td>\n",
       "      <td>8524576.69</td>\n",
       "      <td>-19388467.17</td>\n",
       "      <td>163539.0</td>\n",
       "      <td>20551216.15</td>\n",
       "    </tr>\n",
       "    <tr>\n",
       "      <th>2017</th>\n",
       "      <td>31417495.03</td>\n",
       "      <td>249987</td>\n",
       "      <td>173449</td>\n",
       "      <td>21769213.01</td>\n",
       "      <td>76538</td>\n",
       "      <td>9648282.02</td>\n",
       "      <td>1123705.33</td>\n",
       "      <td>128108.0</td>\n",
       "      <td>16146518.63</td>\n",
       "    </tr>\n",
       "  </tbody>\n",
       "</table>\n",
       "</div>"
      ],
      "text/plain": [
       "      Net Revenue  Customers  New Customers  New Customer Revenue  \\\n",
       "year                                                                \n",
       "2015  29036749.19     231294         231294           29036749.19   \n",
       "2016  25730943.59     204646         136891           17206366.90   \n",
       "2017  31417495.03     249987         173449           21769213.01   \n",
       "\n",
       "      Existing Customers  Existing Customer Revenue  Existing Customer Growth  \\\n",
       "year                                                                            \n",
       "2015              231294                29036749.19                       NaN   \n",
       "2016               67755                 8524576.69              -19388467.17   \n",
       "2017               76538                 9648282.02                1123705.33   \n",
       "\n",
       "      Lost Customers  Revenue lost from attrition  \n",
       "year                                               \n",
       "2015             NaN                          NaN  \n",
       "2016        163539.0                  20551216.15  \n",
       "2017        128108.0                  16146518.63  "
      ]
     },
     "execution_count": 166,
     "metadata": {},
     "output_type": "execute_result"
    }
   ],
   "source": [
    "# output result\n",
    "by_year = by_year.replace(0, np.nan)\n",
    "by_year"
   ]
  },
  {
   "cell_type": "markdown",
   "id": "8bf83933",
   "metadata": {},
   "source": [
    "\n",
    "While filling in the information for 2015, we intentionally filled 0 to make the analysis easier. To make it more accurate, we replace it with Nan as the missing information comes from the fact that 2015 doesn't have a last year to compare with. 0 may cause misinterpretation in the future.  "
   ]
  },
  {
   "cell_type": "code",
   "execution_count": 167,
   "id": "beb2ecc4",
   "metadata": {},
   "outputs": [],
   "source": [
    "by_year.to_csv(\"Case2_Annual_Analysis.csv\")"
   ]
  }
 ],
 "metadata": {
  "kernelspec": {
   "display_name": "Python 3",
   "language": "python",
   "name": "python3"
  },
  "language_info": {
   "codemirror_mode": {
    "name": "ipython",
    "version": 3
   },
   "file_extension": ".py",
   "mimetype": "text/x-python",
   "name": "python",
   "nbconvert_exporter": "python",
   "pygments_lexer": "ipython3",
   "version": "3.8.5"
  }
 },
 "nbformat": 4,
 "nbformat_minor": 5
}
